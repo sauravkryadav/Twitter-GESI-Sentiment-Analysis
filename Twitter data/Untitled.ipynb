{
 "cells": [
  {
   "cell_type": "code",
   "execution_count": 18,
   "id": "f3b20868-2e86-4197-98b3-819b40a9cbd7",
   "metadata": {},
   "outputs": [],
   "source": [
    "import pandas as pd\n",
    "import numpy as np"
   ]
  },
  {
   "cell_type": "code",
   "execution_count": 2,
   "id": "9e8f8970-7972-4234-88b3-e50d30c5469b",
   "metadata": {},
   "outputs": [],
   "source": [
    "data1=pd.read_excel(\"Twitter_1data.xlsx\")\n",
    "data2=pd.read_excel(\"Twitter_2data.xlsx\")\n",
    "data3=pd.read_excel(\"Twitter_3data.xlsx\")\n",
    "data4=pd.read_excel(\"Twitter_4data.xlsx\")\n",
    "data5=pd.read_excel(\"Twitter_5data.xlsx\")\n",
    "data6=pd.read_excel(\"Twitter_6data.xlsx\")\n",
    "data7=pd.read_excel(\"Twitter_7data.xlsx\")\n",
    "data8=pd.read_excel(\"Twitter_8data.xlsx\")\n",
    "data9=pd.read_excel(\"Twitter_9data.xlsx\")\n",
    "data10=pd.read_excel(\"Twitter_10data.xlsx\")\n",
    "data11=pd.read_excel(\"Twitter_11data.xlsx\")"
   ]
  },
  {
   "cell_type": "code",
   "execution_count": 10,
   "id": "4002da43-933e-4548-8306-1ae37ae6042e",
   "metadata": {},
   "outputs": [
    {
     "data": {
      "text/plain": [
       "((96, 12),\n",
       " (55, 14),\n",
       " (20, 15),\n",
       " (761, 14),\n",
       " (338, 26),\n",
       " (822, 11),\n",
       " (80, 12),\n",
       " (881, 12),\n",
       " (136, 10),\n",
       " (524, 10),\n",
       " (516, 13))"
      ]
     },
     "execution_count": 10,
     "metadata": {},
     "output_type": "execute_result"
    }
   ],
   "source": [
    "data1.shape,data2.shape,data3.shape,data4.shape,data5.shape,data6.shape,data7.shape,data8.shape,data9.shape,data10.shape,data11.shape"
   ]
  },
  {
   "cell_type": "code",
   "execution_count": 16,
   "id": "e8c83517-e4f8-4e92-8c66-fdede4f6f5a2",
   "metadata": {},
   "outputs": [
    {
     "data": {
      "text/plain": [
       "(Index(['created_at', 'reply_count', 'quote_count', 'url', 'views_count',\n",
       "        'retweet_count', 'truncated_full_text', 'bookmark_count', 'full_text',\n",
       "        'lang', 'favorite_count', 'Searched_keyword'],\n",
       "       dtype='object'),\n",
       " Index(['created_at', 'url', 'reply_count', 'favorite_count', 'quote_count',\n",
       "        'views_count', 'truncated_full_text', 'bookmark_count',\n",
       "        'possibly_sensitive', 'lang', 'full_text', 'retweet_count', 'retweeted',\n",
       "        'Searched_keyword'],\n",
       "       dtype='object'),\n",
       " Index(['created_at', 'favorite_count', 'views_count', 'url', 'favorited',\n",
       "        'quote_count', 'full_text', 'lang', 'bookmark_count', 'retweeted',\n",
       "        'truncated_full_text', 'reply_count', 'retweet_count',\n",
       "        'possibly_sensitive', 'Searched keyword'],\n",
       "       dtype='object'),\n",
       " Index(['created_at', 'favorite_count', 'retweeted', 'views_count',\n",
       "        'quote_count', 'possibly_sensitive', 'bookmarked', 'retweet_count',\n",
       "        'url', 'truncated_full_text', 'reply_count', 'full_text', 'lang',\n",
       "        'Keyword'],\n",
       "       dtype='object'),\n",
       " Index(['created_at', 'favorited', 'quote_count', 'views_count',\n",
       "        'truncated_full_text', 'bookmark_count', 'retweet_count',\n",
       "        'possibly_sensitive', 'url', 'retweeted', 'reply_count',\n",
       "        'favorite_count', 'bookmarked', 'lang', 'full_text', 'Unnamed: 15',\n",
       "        'Unnamed: 16', 'Unnamed: 17', 'Unnamed: 18', 'Unnamed: 19',\n",
       "        'Unnamed: 20', 'Unnamed: 21', 'Unnamed: 22', 'Unnamed: 23',\n",
       "        'Unnamed: 24', 'Searched keyword'],\n",
       "       dtype='object'),\n",
       " Index(['full_text', 'reply_count', 'url', 'retweet_count', 'bookmarked',\n",
       "        'quote_count', 'views_count', 'retweeted', 'favorite_count', 'lang',\n",
       "        'Searched_Keyword'],\n",
       "       dtype='object'),\n",
       " Index(['lang', 'favorite_count', 'full_text', 'reply_count',\n",
       "        'truncated_full_text', 'favorited', 'url', 'retweet_count',\n",
       "        'quote_count', 'possibly_sensitive', 'views_count', 'Searched_keyword'],\n",
       "       dtype='object'),\n",
       " Index(['created_at', 'quote_count', 'url', 'views_count', 'retweet_count',\n",
       "        'truncated_full_text', 'bookmark_count', 'full_text', 'lang',\n",
       "        'favorite_count', 'possibly_sensitive', 'Searched_keyword'],\n",
       "       dtype='object'),\n",
       " Index(['url', 'views_count', 'retweet_count', 'truncated_full_text',\n",
       "        'bookmark_count', 'full_text', 'lang', 'favorite_count',\n",
       "        'possibly_sensitive', 'Searched_keyword'],\n",
       "       dtype='object'),\n",
       " Index(['lang', 'full_text', 'bookmark_count', 'truncated_full_text',\n",
       "        'retweet_count', 'views_count', 'url', 'quote_count', 'created_at',\n",
       "        'Searched_keyword'],\n",
       "       dtype='object'),\n",
       " Index(['created_at', 'lang', 'full_text', 'favorite_count', 'bookmark_count',\n",
       "        'truncated_full_text', 'retweet_count', 'views_count', 'url',\n",
       "        'quote_count', 'reply_count', 'possibly_sensitive', 'Searched_keyword'],\n",
       "       dtype='object'))"
      ]
     },
     "execution_count": 16,
     "metadata": {},
     "output_type": "execute_result"
    }
   ],
   "source": [
    "data1.columns,data2.columns,data3.columns,data4.columns,data5.columns,data6.columns,data7.columns,data8.columns,data9.columns,data10.columns,data11.columns"
   ]
  },
  {
   "cell_type": "code",
   "execution_count": 23,
   "id": "5a6acaf5-fa3e-48d1-85f2-14888dfe4b1f",
   "metadata": {},
   "outputs": [],
   "source": [
    "col=['Unnamed: 15','Unnamed: 16', 'Unnamed: 17', 'Unnamed: 18', 'Unnamed: 19','Unnamed: 20', 'Unnamed: 21', 'Unnamed: 22', 'Unnamed: 23','Unnamed: 24']"
   ]
  },
  {
   "cell_type": "code",
   "execution_count": 24,
   "id": "5f7d0018-3beb-4bc1-901d-eb63544f7222",
   "metadata": {},
   "outputs": [],
   "source": [
    "data5=data5.drop(columns=col)"
   ]
  },
  {
   "cell_type": "code",
   "execution_count": 30,
   "id": "c451b525-e2c3-41b5-bcb6-bf7102afb8e9",
   "metadata": {},
   "outputs": [
    {
     "data": {
      "text/plain": [
       "Index(['created_at', 'favorited', 'quote_count', 'views_count',\n",
       "       'truncated_full_text', 'bookmark_count', 'retweet_count',\n",
       "       'possibly_sensitive', 'url', 'retweeted', 'reply_count',\n",
       "       'favorite_count', 'bookmarked', 'lang', 'full_text',\n",
       "       'Searched keyword'],\n",
       "      dtype='object')"
      ]
     },
     "execution_count": 30,
     "metadata": {},
     "output_type": "execute_result"
    }
   ],
   "source": [
    "data5.columns"
   ]
  },
  {
   "cell_type": "code",
   "execution_count": 37,
   "id": "0983ff48-fb29-4aac-a483-8796ed2675f4",
   "metadata": {},
   "outputs": [],
   "source": [
    "drop_cols=['truncated_full_text','favorite_count','lang','reply_count']"
   ]
  },
  {
   "cell_type": "code",
   "execution_count": 45,
   "id": "833926bd-2a14-4b94-a4e2-e51457e11818",
   "metadata": {},
   "outputs": [],
   "source": [
    "data1_copy=data1[['url','full_text','retweet_count','views_count']]\n",
    "data2_copy=data2[['url','full_text','retweet_count','views_count']]\n",
    "data3_copy=data3[['url','full_text','retweet_count','views_count']]\n",
    "data4_copy=data4[['url','full_text','retweet_count','views_count']]\n",
    "data5_copy=data5[['url','full_text','retweet_count','views_count']]\n",
    "data6_copy=data6[['url','full_text','retweet_count','views_count']]\n",
    "data7_copy=data7[['url','full_text','retweet_count','views_count']]\n",
    "data8_copy=data8[['url','full_text','retweet_count','views_count']]\n",
    "data9_copy=data9[['url','full_text','retweet_count','views_count']]\n",
    "data10_copy=data10[['url','full_text','retweet_count','views_count']]\n",
    "data11_copy=data11[['url','full_text','retweet_count','views_count']]\n"
   ]
  },
  {
   "cell_type": "code",
   "execution_count": 48,
   "id": "4a265fc9-4907-4f3a-826c-8a488410948c",
   "metadata": {},
   "outputs": [
    {
     "data": {
      "text/plain": [
       "((96, 4),\n",
       " (55, 4),\n",
       " (20, 4),\n",
       " (761, 4),\n",
       " (338, 4),\n",
       " (822, 4),\n",
       " (80, 4),\n",
       " (881, 4),\n",
       " (136, 4),\n",
       " (524, 4),\n",
       " (516, 4))"
      ]
     },
     "execution_count": 48,
     "metadata": {},
     "output_type": "execute_result"
    }
   ],
   "source": [
    "data1_copy.shape,data2_copy.shape,data3_copy.shape,data4_copy.shape,data5_copy.shape,data6_copy.shape,data7_copy.shape,data8_copy.shape,data9_copy.shape,data10_copy.shape,data11_copy.shape"
   ]
  },
  {
   "cell_type": "code",
   "execution_count": 49,
   "id": "e724ad77-f235-40e8-ad1e-a5baa3e2ec07",
   "metadata": {},
   "outputs": [
    {
     "data": {
      "text/plain": [
       "4229"
      ]
     },
     "execution_count": 49,
     "metadata": {},
     "output_type": "execute_result"
    }
   ],
   "source": [
    "96+55+20+761+338+822+80+881+136+524+516"
   ]
  },
  {
   "cell_type": "code",
   "execution_count": 53,
   "id": "8038ef98-778f-4c9b-8954-a4097eb30ff0",
   "metadata": {},
   "outputs": [],
   "source": [
    "concatenated_df = pd.concat([data1_copy, data2_copy, data3_copy,data4_copy,data5_copy,data6_copy,data7_copy,data8_copy,data9_copy,data10_copy,data11_copy], ignore_index=True)"
   ]
  },
  {
   "cell_type": "code",
   "execution_count": 54,
   "id": "cc013736-a1dc-45e3-9eb8-e94560043575",
   "metadata": {},
   "outputs": [
    {
     "data": {
      "text/html": [
       "<div>\n",
       "<style scoped>\n",
       "    .dataframe tbody tr th:only-of-type {\n",
       "        vertical-align: middle;\n",
       "    }\n",
       "\n",
       "    .dataframe tbody tr th {\n",
       "        vertical-align: top;\n",
       "    }\n",
       "\n",
       "    .dataframe thead th {\n",
       "        text-align: right;\n",
       "    }\n",
       "</style>\n",
       "<table border=\"1\" class=\"dataframe\">\n",
       "  <thead>\n",
       "    <tr style=\"text-align: right;\">\n",
       "      <th></th>\n",
       "      <th>url</th>\n",
       "      <th>full_text</th>\n",
       "      <th>retweet_count</th>\n",
       "      <th>views_count</th>\n",
       "    </tr>\n",
       "  </thead>\n",
       "  <tbody>\n",
       "    <tr>\n",
       "      <th>0</th>\n",
       "      <td>https://twitter.com/TheReportify/status/174739...</td>\n",
       "      <td>JUST IN: Joni Simpson appointed as Director fo...</td>\n",
       "      <td>0</td>\n",
       "      <td>35</td>\n",
       "    </tr>\n",
       "    <tr>\n",
       "      <th>1</th>\n",
       "      <td>https://twitter.com/ILOColombo/status/17472135...</td>\n",
       "      <td>The @ilo country office for #SriLanka and the ...</td>\n",
       "      <td>1</td>\n",
       "      <td>1369</td>\n",
       "    </tr>\n",
       "    <tr>\n",
       "      <th>2</th>\n",
       "      <td>https://twitter.com/Juliett59778255/status/172...</td>\n",
       "      <td>Biden spending $17 million on 'social cohesion...</td>\n",
       "      <td>1</td>\n",
       "      <td>6</td>\n",
       "    </tr>\n",
       "    <tr>\n",
       "      <th>3</th>\n",
       "      <td>https://twitter.com/Real_AnTheFacts/status/172...</td>\n",
       "      <td>WASTE OF THE DAY: Throwing $17 million of taxp...</td>\n",
       "      <td>41</td>\n",
       "      <td>2028</td>\n",
       "    </tr>\n",
       "    <tr>\n",
       "      <th>4</th>\n",
       "      <td>https://twitter.com/kunleaden/status/172472393...</td>\n",
       "      <td>At the ongoing 7th Asia Pacific Population Con...</td>\n",
       "      <td>5</td>\n",
       "      <td>569</td>\n",
       "    </tr>\n",
       "  </tbody>\n",
       "</table>\n",
       "</div>"
      ],
      "text/plain": [
       "                                                 url  \\\n",
       "0  https://twitter.com/TheReportify/status/174739...   \n",
       "1  https://twitter.com/ILOColombo/status/17472135...   \n",
       "2  https://twitter.com/Juliett59778255/status/172...   \n",
       "3  https://twitter.com/Real_AnTheFacts/status/172...   \n",
       "4  https://twitter.com/kunleaden/status/172472393...   \n",
       "\n",
       "                                           full_text  retweet_count  \\\n",
       "0  JUST IN: Joni Simpson appointed as Director fo...              0   \n",
       "1  The @ilo country office for #SriLanka and the ...              1   \n",
       "2  Biden spending $17 million on 'social cohesion...              1   \n",
       "3  WASTE OF THE DAY: Throwing $17 million of taxp...             41   \n",
       "4  At the ongoing 7th Asia Pacific Population Con...              5   \n",
       "\n",
       "   views_count  \n",
       "0           35  \n",
       "1         1369  \n",
       "2            6  \n",
       "3         2028  \n",
       "4          569  "
      ]
     },
     "execution_count": 54,
     "metadata": {},
     "output_type": "execute_result"
    }
   ],
   "source": [
    "concatenated_df.head()"
   ]
  },
  {
   "cell_type": "code",
   "execution_count": 55,
   "id": "b2d97710-7547-49d8-87ac-fc4f38f27a32",
   "metadata": {},
   "outputs": [
    {
     "data": {
      "text/plain": [
       "(4229, 4)"
      ]
     },
     "execution_count": 55,
     "metadata": {},
     "output_type": "execute_result"
    }
   ],
   "source": [
    "concatenated_df.shape"
   ]
  },
  {
   "cell_type": "code",
   "execution_count": 56,
   "id": "624d600d-6585-4bd2-bf92-c163711ddadb",
   "metadata": {},
   "outputs": [
    {
     "data": {
      "text/html": [
       "<div>\n",
       "<style scoped>\n",
       "    .dataframe tbody tr th:only-of-type {\n",
       "        vertical-align: middle;\n",
       "    }\n",
       "\n",
       "    .dataframe tbody tr th {\n",
       "        vertical-align: top;\n",
       "    }\n",
       "\n",
       "    .dataframe thead th {\n",
       "        text-align: right;\n",
       "    }\n",
       "</style>\n",
       "<table border=\"1\" class=\"dataframe\">\n",
       "  <thead>\n",
       "    <tr style=\"text-align: right;\">\n",
       "      <th></th>\n",
       "      <th>url</th>\n",
       "      <th>full_text</th>\n",
       "      <th>retweet_count</th>\n",
       "      <th>views_count</th>\n",
       "    </tr>\n",
       "  </thead>\n",
       "  <tbody>\n",
       "    <tr>\n",
       "      <th>4224</th>\n",
       "      <td>https://twitter.com/equality_yuijo/status/1749...</td>\n",
       "      <td>@DJShacho_Foxx @bacara_brave9_0 お願いします</td>\n",
       "      <td>0</td>\n",
       "      <td>21</td>\n",
       "    </tr>\n",
       "    <tr>\n",
       "      <th>4225</th>\n",
       "      <td>https://twitter.com/MediaActive/status/1749674...</td>\n",
       "      <td>Just one of the countless reasons @ScottMorris...</td>\n",
       "      <td>0</td>\n",
       "      <td>55</td>\n",
       "    </tr>\n",
       "    <tr>\n",
       "      <th>4226</th>\n",
       "      <td>https://twitter.com/Scholarsvision/status/1749...</td>\n",
       "      <td>@bluprint7g are we no longer seeking for equal...</td>\n",
       "      <td>0</td>\n",
       "      <td>8</td>\n",
       "    </tr>\n",
       "    <tr>\n",
       "      <th>4227</th>\n",
       "      <td>https://twitter.com/Spiritofgaia0/status/17496...</td>\n",
       "      <td>The Blairite Equality Act is Ruining Britain h...</td>\n",
       "      <td>0</td>\n",
       "      <td>13</td>\n",
       "    </tr>\n",
       "    <tr>\n",
       "      <th>4228</th>\n",
       "      <td>https://twitter.com/youngJetli_/status/1749674...</td>\n",
       "      <td>Gender Equality in Leadership: Assess Murang'a...</td>\n",
       "      <td>0</td>\n",
       "      <td>1</td>\n",
       "    </tr>\n",
       "  </tbody>\n",
       "</table>\n",
       "</div>"
      ],
      "text/plain": [
       "                                                    url  \\\n",
       "4224  https://twitter.com/equality_yuijo/status/1749...   \n",
       "4225  https://twitter.com/MediaActive/status/1749674...   \n",
       "4226  https://twitter.com/Scholarsvision/status/1749...   \n",
       "4227  https://twitter.com/Spiritofgaia0/status/17496...   \n",
       "4228  https://twitter.com/youngJetli_/status/1749674...   \n",
       "\n",
       "                                              full_text  retweet_count  \\\n",
       "4224             @DJShacho_Foxx @bacara_brave9_0 お願いします              0   \n",
       "4225  Just one of the countless reasons @ScottMorris...              0   \n",
       "4226  @bluprint7g are we no longer seeking for equal...              0   \n",
       "4227  The Blairite Equality Act is Ruining Britain h...              0   \n",
       "4228  Gender Equality in Leadership: Assess Murang'a...              0   \n",
       "\n",
       "      views_count  \n",
       "4224           21  \n",
       "4225           55  \n",
       "4226            8  \n",
       "4227           13  \n",
       "4228            1  "
      ]
     },
     "execution_count": 56,
     "metadata": {},
     "output_type": "execute_result"
    }
   ],
   "source": [
    "concatenated_df.tail()"
   ]
  },
  {
   "cell_type": "code",
   "execution_count": 57,
   "id": "eff12b60-10f1-4ce5-9ad7-029ccfe4fe8b",
   "metadata": {},
   "outputs": [],
   "source": [
    "concatenated_df.to_csv('Twitter_combined_data.csv', index=False)"
   ]
  },
  {
   "cell_type": "code",
   "execution_count": 58,
   "id": "bb37b5a9-8654-4c27-a4d4-9462436bbe71",
   "metadata": {},
   "outputs": [],
   "source": [
    "t=pd.read_csv('Twitter_combined_data.csv')"
   ]
  },
  {
   "cell_type": "code",
   "execution_count": 59,
   "id": "af0fa719-b7a3-4a60-ad80-3bfe53c6ceed",
   "metadata": {},
   "outputs": [
    {
     "data": {
      "text/plain": [
       "(4229, 4)"
      ]
     },
     "execution_count": 59,
     "metadata": {},
     "output_type": "execute_result"
    }
   ],
   "source": [
    "t.shape"
   ]
  },
  {
   "cell_type": "code",
   "execution_count": null,
   "id": "04030223-dc3b-447c-a6db-8c7618c161db",
   "metadata": {},
   "outputs": [],
   "source": []
  }
 ],
 "metadata": {
  "kernelspec": {
   "display_name": "Python 3 (ipykernel)",
   "language": "python",
   "name": "python3"
  },
  "language_info": {
   "codemirror_mode": {
    "name": "ipython",
    "version": 3
   },
   "file_extension": ".py",
   "mimetype": "text/x-python",
   "name": "python",
   "nbconvert_exporter": "python",
   "pygments_lexer": "ipython3",
   "version": "3.11.5"
  }
 },
 "nbformat": 4,
 "nbformat_minor": 5
}
